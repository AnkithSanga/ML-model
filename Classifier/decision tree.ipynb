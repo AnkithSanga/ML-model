%matplotlib inline
import numpy as np
import pandas as pd
import matplotlib.pyplot as plt
import seaborn as sns
import sklearn

df = pd.read_csv(r"heart.csv")


df.shape

df

df.info()

null_counts = df.isnull().sum()
print("Null Value Counts:")
print(null_counts)

correlation_matrix = df.corr()

plt.figure(figsize=(10, 8))
sns.heatmap(correlation_matrix, annot=True, cmap='coolwarm')
plt.title("Correlation Matrix of All Features")
plt.show()

X = df.iloc[:, :-1].values
y = df.iloc[:, -1].values

y

from sklearn.model_selection import train_test_split
X_train, X_test, y_train, y_test = train_test_split(X, y, test_size = 0.2, random_state = 42)

from sklearn.tree import DecisionTreeClassifier
# Define the parameter grid for hyperparameter tuning
param_grid = {
    'criterion': ['gini'],
    'max_depth': [1,2,3],  
    'min_samples_split': [3,5,7],  
    'min_samples_leaf': [1]  
}

# Create a decision tree classifier
classifier = DecisionTreeClassifier(random_state=42)

from sklearn.model_selection import  GridSearchCV
# Perform hyperparameter tuning using GridSearchCV
grid_search = GridSearchCV(classifier, param_grid, cv=5)
grid_search.fit(X_train, y_train)

# Get the best hyperparameters
best_params = grid_search.best_params_

# Train the classifier with the best hyperparameters
classifier = DecisionTreeClassifier(random_state=42, **best_params)
classifier.fit(X_train, y_train)

# Predict on the testing set
y_test_pred = classifier.predict(X_test)

from sklearn.metrics import accuracy_score
# Predict on the training set
y_train_pred = classifier.predict(X_train)

# Calculate training accuracy
train_accuracy = accuracy_score(y_train, y_train_pred)
print("Training Accuracy:", train_accuracy)

# Calculate testing accuracy
test_accuracy = accuracy_score(y_test, y_test_pred)
print("Testing Accuracy:", test_accuracy)

from sklearn.metrics import confusion_matrix, accuracy_score, precision_score, recall_score, f1_score
# Generate confusion matrix
cm = confusion_matrix(y_test, y_test_pred)
print("Confusion Matrix:")
print(cm)

# Visualize confusion matrix
plt.figure(figsize=(8, 6))
sns.heatmap(cm, annot=True, fmt='d', cmap='Blues')
plt.title("Confusion Matrix")
plt.xlabel("Predicted")
plt.ylabel("Actual")
# plt.show()

accuracy = accuracy_score(y_test, y_test_pred)
print("Accuracy:", accuracy)

precision = precision_score(y_test, y_test_pred)
print("Precision:", precision)

recall = recall_score(y_test, y_test_pred)
print("Recall:", recall)

f1 = f1_score(y_test, y_test_pred)
print("F1 Score:", f1)

age = 63
sex = 1
cp = 3
trtbps = 145
chol = 233
fbs = 1
restecg = 0
thalachh = 150
exng = 0
oldpeak = 2.3
slp = 0
caa = 0
thall = 1

# Create a numpy array with the input values
input_data = np.array([[age, sex, cp, trtbps, chol, fbs, restecg, thalachh, exng, oldpeak, slp, caa, thall]])

# Make predictions
prediction = classifier.predict(input_data)

# Print the predicted output
print("Prediction:", prediction)


plt.figure(figsize=(12,8))

from sklearn import tree

tree.plot_tree(classifier.fit(X_test, y_test)) 

from sklearn.tree import plot_tree
import matplotlib.pyplot as plt

plt.figure(figsize=(15, 10))  
plot_tree(
    classifier,
    feature_names=['age', 'sex', 'cp', 'trtbps', 'chol', 'fbs', 'restecg', 'thalachh', 'exng', 'oldpeak', 'slp', 'caa', 'thall'],
    class_names=['output_0', 'output_1'], 
    filled=True,
    fontsize=10
)
plt.show()


